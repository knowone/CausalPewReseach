{
 "cells": [
  {
   "cell_type": "code",
   "execution_count": 1,
   "metadata": {
    "collapsed": true,
    "pycharm": {
     "is_executing": false
    }
   },
   "outputs": [],
   "source": [
    "import pyreadstat\n",
    "dataframe, meta = pyreadstat.read_sav(\"e:\\\\IIT\\\\Respondent Dataset - 2013 Pew Research Center Survey of US Jews (SPSS) - Version 1.1 - October 1 2014.sav\")"
   ]
  },
  {
   "cell_type": "code",
   "execution_count": 57,
   "outputs": [],
   "source": [
    "# columns_names = list(meta.column_names)[:268]\n",
    "# weights_names = list(meta.column_names)[268:]\n",
    "# print(meta.column_names)"
   ],
   "metadata": {
    "collapsed": false,
    "pycharm": {
     "name": "#%%\n",
     "is_executing": false
    }
   }
  },
  {
   "cell_type": "code",
   "execution_count": 20,
   "outputs": [],
   "source": [
    "\n"
   ],
   "metadata": {
    "collapsed": false,
    "pycharm": {
     "name": "#%%\n",
     "is_executing": false
    }
   }
  },
  {
   "cell_type": "code",
   "execution_count": 66,
   "outputs": [
    {
     "name": "stdout",
     "text": [
      "Index(['qkey', 'comptyp', 'finalanalysistype', 'samptyp', 'qstratcd',\n       'FINAL_NUMERIC_STRATUM', 'cregion', 'lang', 'handoff', 'qa1',\n       ...\n       'bshw247', 'bshw248', 'bshw249', 'bshw250', 'bshw251', 'bshw252',\n       'bshw253', 'bshw254', 'bshw255', 'bshw256'],\n      dtype='object', length=526)\n"
     ],
     "output_type": "stream"
    }
   ],
   "source": [
    "# print(df(dataframe).head())\n",
    "# weights = dataframe.drop(dataframe.columns[1:268], axis=1)\n",
    "# print(weights.head())\n",
    "data = dataframe.drop(dataframe.columns[269:525], axis=1)\n",
    "data = data.drop(dataframe.columns[526:], axis=1)"
   ],
   "metadata": {
    "collapsed": false,
    "pycharm": {
     "name": "#%%\n",
     "is_executing": false
    }
   }
  },
  {
   "cell_type": "code",
   "execution_count": 2,
   "outputs": [
    {
     "traceback": [
      "\u001b[1;31m---------------------------------------------------------------------------\u001b[0m",
      "\u001b[1;31mNameError\u001b[0m                                 Traceback (most recent call last)",
      "\u001b[1;32m<ipython-input-2-61cf3295a4dd>\u001b[0m in \u001b[0;36m<module>\u001b[1;34m\u001b[0m\n\u001b[1;32m----> 1\u001b[1;33m \u001b[0mprint\u001b[0m\u001b[1;33m(\u001b[0m\u001b[0mdata\u001b[0m\u001b[1;33m.\u001b[0m\u001b[0mcolumns\u001b[0m\u001b[1;33m)\u001b[0m\u001b[1;33m\u001b[0m\u001b[1;33m\u001b[0m\u001b[0m\n\u001b[0m",
      "\u001b[1;31mNameError\u001b[0m: name 'data' is not defined"
     ],
     "ename": "NameError",
     "evalue": "name 'data' is not defined",
     "output_type": "error"
    }
   ],
   "source": [
    "print(data.columns)"
   ],
   "metadata": {
    "collapsed": false,
    "pycharm": {
     "name": "#%%\n",
     "is_executing": false
    }
   }
  },
  {
   "cell_type": "code",
   "execution_count": 6,
   "outputs": [
    {
     "data": {
      "text/plain": "Index(['sex', 'qe5f', 'qh1cmbrec', 'qh2rec', 'age', 'agecat'], dtype='object')"
     },
     "metadata": {},
     "output_type": "execute_result",
     "execution_count": 6
    }
   ],
   "source": [
    "surv_data = dataframe[['sex', 'qe5f', 'qh1cmbrec', 'qh2rec', 'age', 'agecat']]  #  CHDENOM2REC\n",
    "surv_data.columns\n"
   ],
   "metadata": {
    "collapsed": false,
    "pycharm": {
     "name": "#%%\n",
     "is_executing": false
    }
   }
  },
  {
   "cell_type": "code",
   "execution_count": 11,
   "outputs": [
    {
     "data": {
      "text/plain": "          qkey  comptyp  finalanalysistype  samptyp  qstratcd  \\\n141  1004815.0      2.0                5.0      1.0       7.0   \n\n     FINAL_NUMERIC_STRATUM  cregion  lang  handoff  qa1  ...  bshw247  \\\n141                    6.0      1.0   1.0      0.0  2.0  ...      0.0   \n\n     bshw248  bshw249  bshw250    bshw251    bshw252    bshw253    bshw254  \\\n141      0.0      0.0      0.0  500.35266  1072.5968  509.97623  494.83719   \n\n      bshw255  bshw256  \n141  1615.699      0.0  \n\n[1 rows x 782 columns]",
      "text/html": "<div>\n<style scoped>\n    .dataframe tbody tr th:only-of-type {\n        vertical-align: middle;\n    }\n\n    .dataframe tbody tr th {\n        vertical-align: top;\n    }\n\n    .dataframe thead th {\n        text-align: right;\n    }\n</style>\n<table border=\"1\" class=\"dataframe\">\n  <thead>\n    <tr style=\"text-align: right;\">\n      <th></th>\n      <th>qkey</th>\n      <th>comptyp</th>\n      <th>finalanalysistype</th>\n      <th>samptyp</th>\n      <th>qstratcd</th>\n      <th>FINAL_NUMERIC_STRATUM</th>\n      <th>cregion</th>\n      <th>lang</th>\n      <th>handoff</th>\n      <th>qa1</th>\n      <th>...</th>\n      <th>bshw247</th>\n      <th>bshw248</th>\n      <th>bshw249</th>\n      <th>bshw250</th>\n      <th>bshw251</th>\n      <th>bshw252</th>\n      <th>bshw253</th>\n      <th>bshw254</th>\n      <th>bshw255</th>\n      <th>bshw256</th>\n    </tr>\n  </thead>\n  <tbody>\n    <tr>\n      <th>141</th>\n      <td>1004815.0</td>\n      <td>2.0</td>\n      <td>5.0</td>\n      <td>1.0</td>\n      <td>7.0</td>\n      <td>6.0</td>\n      <td>1.0</td>\n      <td>1.0</td>\n      <td>0.0</td>\n      <td>2.0</td>\n      <td>...</td>\n      <td>0.0</td>\n      <td>0.0</td>\n      <td>0.0</td>\n      <td>0.0</td>\n      <td>500.35266</td>\n      <td>1072.5968</td>\n      <td>509.97623</td>\n      <td>494.83719</td>\n      <td>1615.699</td>\n      <td>0.0</td>\n    </tr>\n  </tbody>\n</table>\n<p>1 rows × 782 columns</p>\n</div>"
     },
     "metadata": {},
     "output_type": "execute_result",
     "execution_count": 11
    }
   ],
   "source": [
    "dataframe.iloc[[141]]\n"
   ],
   "metadata": {
    "collapsed": false,
    "pycharm": {
     "name": "#%%\n",
     "is_executing": false
    }
   }
  }
 ],
 "metadata": {
  "language_info": {
   "codemirror_mode": {
    "name": "ipython",
    "version": 2
   },
   "file_extension": ".py",
   "mimetype": "text/x-python",
   "name": "python",
   "nbconvert_exporter": "python",
   "pygments_lexer": "ipython2",
   "version": "2.7.6"
  },
  "kernelspec": {
   "name": "python3",
   "language": "python",
   "display_name": "Python 3"
  },
  "pycharm": {
   "stem_cell": {
    "cell_type": "raw",
    "source": [],
    "metadata": {
     "collapsed": false
    }
   }
  }
 },
 "nbformat": 4,
 "nbformat_minor": 0
}